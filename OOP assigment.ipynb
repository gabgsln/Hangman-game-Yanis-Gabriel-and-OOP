{
 "cells": [
  {
   "cell_type": "code",
   "execution_count": 3,
   "metadata": {},
   "outputs": [
    {
     "name": "stdout",
     "output_type": "stream",
     "text": [
      "The area of the rectangle is 6\n",
      "The perimeter of the rectangle is 10\n",
      "The area of the rectangle is 20\n",
      "The perimeter of the rectangle is 18\n"
     ]
    },
    {
     "data": {
      "text/plain": [
       "18"
      ]
     },
     "execution_count": 3,
     "metadata": {},
     "output_type": "execute_result"
    }
   ],
   "source": [
    "class Rectangle:\n",
    "    def __init__(self, width, length):\n",
    "        self.width = width\n",
    "        self.length = length\n",
    "\n",
    "    def calcularea(self):\n",
    "        area = self.width * self.length  \n",
    "        print(f\"The area of the rectangle is {area}\")\n",
    "        return area\n",
    "\n",
    "    def calculperi(self):\n",
    "        perimeter = 2 * (self.width + self.length) \n",
    "        print(f\"The perimeter of the rectangle is {perimeter}\")\n",
    "        return perimeter\n",
    "\n",
    "\n",
    "rectagle1 = Rectangle(2, 3)\n",
    "rectagle2 = Rectangle(4, 5)\n",
    "\n",
    "\n",
    "rectagle1.calcularea()\n",
    "rectagle1.calculperi()\n",
    "\n",
    "rectagle2.calcularea()\n",
    "rectagle2.calculperi()\n",
    "\n",
    "        \n",
    "\n",
    "        "
   ]
  },
  {
   "cell_type": "code",
   "execution_count": null,
   "metadata": {},
   "outputs": [],
   "source": [
    "class Student:\n",
    "    def __init__(self,name):\n",
    "        self.name=name\n",
    "\n",
    "\n",
    "\n",
    "\n",
    "class Teacher:\n",
    "    def __init__(self,name):\n",
    "        self.name=name\n",
    "        self.students=[]\n",
    "\n",
    "    def add_students(self,student):\n",
    "        self.students.append(student)\n",
    "\n",
    "    def show_student(self):\n",
    "        print(f\"Teacher:{self.name} Students{self.students}\")\n",
    "        for student in self.students:\n",
    "            print(student.name)\n",
    "\n",
    "\n",
    "teacher=Teacher(\"Monsieur Marco\")\n",
    "student1=Student(\"Ballo\")\n",
    "student2=Student(\"Carla\")\n",
    "student3=Student(\"Pablo\")\n"
   ]
  },
  {
   "cell_type": "code",
   "execution_count": null,
   "metadata": {},
   "outputs": [],
   "source": [
    "class Vehicle:\n",
    "    def __init__(self,name):\n",
    "        self.name=name\n",
    "     \n",
    "class Car(Vehicle):\n",
    "    def __init__(self, name,model,license_plate,motor_design):\n",
    "        super().__init__(name)\n",
    "        self.model=model\n",
    "        self.license_plate=license_plate\n",
    "        self.motor_desing=motor_design\n",
    "class Moto(Vehicle):\n",
    "    def __init__(self, name, constructor,model,license_plate,motor_design):\n",
    "        super().__init__(name, constructor)\n",
    "        self.model=model\n",
    "        self.license_plate=license_plate\n",
    "        self.motor_design=motor_design\n",
    "    \n",
    "vehicle1=Vehicle(\"Mercedes\")\n",
    "car1=Car(\"GLE\",\"78098\",\"v16\")\n",
    "moto1=Moto(\"155\",\"27283\",\"v8\")\n",
    "\n",
    "\n"
   ]
  },
  {
   "cell_type": "code",
   "execution_count": 5,
   "metadata": {},
   "outputs": [
    {
     "name": "stdout",
     "output_type": "stream",
     "text": [
      "the age of the person is 17\n",
      "the name of the persion is pablo\n"
     ]
    }
   ],
   "source": [
    "class Person:\n",
    "    def __init__(self,name,age):\n",
    "        self.name=name\n",
    "        self.age=age\n",
    "\n",
    "    def get_age(self):\n",
    "        print(f\"the age of the person is {self.age}\")\n",
    "    \n",
    "    def get_name(self):\n",
    "        print(f\"the name of the person is {self.name}\")\n",
    "\n",
    "person1=Person(\"pablo\",\"17\")\n",
    "person1.get_age()\n",
    "person1.get_name()\n",
    "        \n"
   ]
  },
  {
   "cell_type": "code",
   "execution_count": null,
   "metadata": {},
   "outputs": [],
   "source": [
    "class Book:\n",
    "    def __init__(self,author,title):\n",
    "        self.author=author\n",
    "        self.title=title\n",
    "\n",
    "\n",
    "    def description(self):\n",
    "        return(f\"the title of this book is {self.title} and the author of this book is {self.author}\")\n",
    "        \n",
    "\n",
    "class Library:\n",
    "    def __init__(self):\n",
    "        self.collection=[]\n",
    "\n",
    "    def add_book(self,book):\n",
    "        self.collection.append(Book)\n",
    "\n",
    "    def show_library(self):\n",
    "        print(\"the books in the library are\")\n",
    "        for book in self.collection:\n",
    "            print(book)\n",
    "        \n",
    "        \n",
    "\n",
    "\n",
    "\n",
    "\n"
   ]
  },
  {
   "cell_type": "code",
   "execution_count": 6,
   "metadata": {},
   "outputs": [
    {
     "ename": "TypeError",
     "evalue": "add_students() missing 1 required positional argument: 'student'",
     "output_type": "error",
     "traceback": [
      "\u001b[0;31m---------------------------------------------------------------------------\u001b[0m",
      "\u001b[0;31mTypeError\u001b[0m                                 Traceback (most recent call last)",
      "Cell \u001b[0;32mIn[6], line 27\u001b[0m\n\u001b[1;32m     25\u001b[0m student1\u001b[38;5;241m=\u001b[39mStudent(\u001b[38;5;124m\"\u001b[39m\u001b[38;5;124mPablo\u001b[39m\u001b[38;5;124m\"\u001b[39m)\n\u001b[1;32m     26\u001b[0m department1\u001b[38;5;241m=\u001b[39mDepartment(\u001b[38;5;124m\"\u001b[39m\u001b[38;5;124mcomputer science\u001b[39m\u001b[38;5;124m\"\u001b[39m) \n\u001b[0;32m---> 27\u001b[0m \u001b[43mdepartment1\u001b[49m\u001b[38;5;241;43m.\u001b[39;49m\u001b[43madd_students\u001b[49m\u001b[43m(\u001b[49m\u001b[43m)\u001b[49m           \n",
      "\u001b[0;31mTypeError\u001b[0m: add_students() missing 1 required positional argument: 'student'"
     ]
    }
   ],
   "source": [
    "class Student:\n",
    "    def __init__(self,name):\n",
    "        self.name=name\n",
    "\n",
    "class Department:\n",
    "    def __init__(self,department_name):\n",
    "        self.department_name=department_name\n",
    "        self.students=[]\n",
    "\n",
    "    def add_students(self,student):\n",
    "        self.students.append(student)\n",
    "\n",
    "    def show_student(self):\n",
    "        print(f\"the department has name {self.department_name}\")\n",
    "        if self.students not in Department:\n",
    "            print(\"the department has no student\")\n",
    "        else:\n",
    "            for student in self.students:\n",
    "                print(f\"{student}\")\n",
    "                \n",
    "                \n",
    "                \n",
    "                \n",
    "                \n",
    "student1=Student(\"Pablo\")\n",
    "department1=Department(\"computer science\") \n",
    "department1.add_students()           \n",
    "        \n",
    "\n",
    "     \n",
    "\n",
    "       \n",
    "        \n",
    "        "
   ]
  },
  {
   "cell_type": "code",
   "execution_count": null,
   "metadata": {},
   "outputs": [],
   "source": [
    "from math import pi\n",
    "\n",
    "class Shape:\n",
    "    def __init__(self):\n",
    "        \n",
    "        \n",
    "class Circle(Shape):\n",
    "    def __init__(self,radius):\n",
    "        self.radius=radius\n",
    "\n",
    "\n",
    "    def get_area(self):\n",
    "        area=pi*self.radius**2\n",
    "        return area\n",
    "class Rectangle(Shape):\n",
    "    def __init__(self,lenght,widht):\n",
    "        self.width=widht\n",
    "        self.lenght=lenght\n",
    "\n",
    "    def get_area2(self):\n",
    "        area2=self.lenght*self.width\n",
    "        return area2\n",
    "     \n",
    "        \n",
    "        \n",
    "circle1 = Circle(5)      \n",
    "rectangle1 = Rectangle(4, 6)\n",
    "print(f\"The area of the circle is: {circle1.area()}\")\n",
    "print(f\"The area of the rectangle is: {rectangle1.area()}\")\n",
    "  "
   ]
  }
 ],
 "metadata": {
  "kernelspec": {
   "display_name": "Python 3",
   "language": "python",
   "name": "python3"
  },
  "language_info": {
   "codemirror_mode": {
    "name": "ipython",
    "version": 3
   },
   "file_extension": ".py",
   "mimetype": "text/x-python",
   "name": "python",
   "nbconvert_exporter": "python",
   "pygments_lexer": "ipython3",
   "version": "3.9.6"
  }
 },
 "nbformat": 4,
 "nbformat_minor": 2
}
